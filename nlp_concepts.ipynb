{
 "cells": [
  {
   "cell_type": "code",
   "execution_count": 1,
   "id": "af5a7347",
   "metadata": {},
   "outputs": [
    {
     "name": "stderr",
     "output_type": "stream",
     "text": [
      "[nltk_data] Downloading package wordnet to\n",
      "[nltk_data]     C:\\Users\\makye\\AppData\\Roaming\\nltk_data...\n",
      "[nltk_data]   Package wordnet is already up-to-date!\n",
      "[nltk_data] Downloading package punkt to\n",
      "[nltk_data]     C:\\Users\\makye\\AppData\\Roaming\\nltk_data...\n",
      "[nltk_data]   Package punkt is already up-to-date!\n",
      "[nltk_data] Downloading package averaged_perceptron_tagger to\n",
      "[nltk_data]     C:\\Users\\makye\\AppData\\Roaming\\nltk_data...\n",
      "[nltk_data]   Package averaged_perceptron_tagger is already up-to-\n",
      "[nltk_data]       date!\n"
     ]
    }
   ],
   "source": [
    "import spacy\n",
    "from spacy import displacy\n",
    "nlp = spacy.load(\"en_core_web_sm\") #Creating nlp object\n",
    "import flair\n",
    "from flair.data import Sentence\n",
    "from flair.embeddings import WordEmbeddings\n",
    "import torch\n",
    "import nltk\n",
    "nltk.download('wordnet')\n",
    "nltk.download('punkt')\n",
    "nltk.download('averaged_perceptron_tagger')\n",
    "from nltk.stem import WordNetLemmatizer\n",
    "from nltk.corpus import wordnet\n"
   ]
  },
  {
   "cell_type": "markdown",
   "id": "0d81270e",
   "metadata": {},
   "source": [
    "#### Steps NLP\n",
    "\n",
    "1.Tokenization\n",
    "\n",
    "2.Embedding"
   ]
  },
  {
   "cell_type": "markdown",
   "id": "7c53f6a9",
   "metadata": {},
   "source": [
    "## 1. Tokenize "
   ]
  },
  {
   "cell_type": "code",
   "execution_count": 2,
   "id": "269ab9f4",
   "metadata": {},
   "outputs": [],
   "source": [
    "#. Tokenize this document with SpaCy:\n",
    "text = (\"When Sebastian Thrun started working on self-driving cars at \"\n",
    "        \"Google in 2007, few people outside of the company took him \"\n",
    "        \"seriously. “I can tell you very senior CEOs of major American \"\n",
    "        \"car companies would shake my hand and turn away because I wasn’t \"\n",
    "        \"worth talking to,” said Thrun, in an interview with Recode earlier \"\n",
    "        \"this week.\")"
   ]
  },
  {
   "cell_type": "markdown",
   "id": "5f5d3bf1",
   "metadata": {},
   "source": [
    "### Reading text/tokens with spacy"
   ]
  },
  {
   "cell_type": "code",
   "execution_count": 3,
   "id": "0082299b",
   "metadata": {},
   "outputs": [
    {
     "data": {
      "text/plain": [
       "When Sebastian Thrun started working on self-driving cars at Google in 2007, few people outside of the company took him seriously. “I can tell you very senior CEOs of major American car companies would shake my hand and turn away because I wasn’t worth talking to,” said Thrun, in an interview with Recode earlier this week."
      ]
     },
     "execution_count": 3,
     "metadata": {},
     "output_type": "execute_result"
    }
   ],
   "source": [
    "#Reading text with spacy\n",
    "docx = nlp(text)\n",
    "docx"
   ]
  },
  {
   "cell_type": "markdown",
   "id": "71e7eacc",
   "metadata": {},
   "source": [
    "### Toknize text with Spacy"
   ]
  },
  {
   "cell_type": "code",
   "execution_count": 4,
   "id": "004257fa",
   "metadata": {},
   "outputs": [
    {
     "name": "stdout",
     "output_type": "stream",
     "text": [
      "0: When Sebastian Thrun started working on self-driving cars at Google in 2007, few people outside of the company took him seriously.\n",
      "1: “\n",
      "2: I can tell you very senior CEOs of major American car companies would shake my hand and turn away because I wasn’t worth talking to,” said Thrun, in an interview with Recode earlier this week.\n"
     ]
    }
   ],
   "source": [
    "#Number sentecnes in text\n",
    "for num, sentence in enumerate(docx.sents):\n",
    "    print(f'{num}: {sentence}')\n",
    "    "
   ]
  },
  {
   "cell_type": "code",
   "execution_count": 6,
   "id": "1c5f72a3",
   "metadata": {},
   "outputs": [
    {
     "name": "stdout",
     "output_type": "stream",
     "text": [
      "0: When\n",
      "1: Sebastian\n",
      "2: Thrun\n",
      "3: started\n",
      "4: working\n",
      "5: on\n",
      "6: self\n",
      "7: -\n",
      "8: driving\n",
      "9: cars\n",
      "10: at\n",
      "11: Google\n",
      "12: in\n",
      "13: 2007\n",
      "14: ,\n",
      "15: few\n",
      "16: people\n",
      "17: outside\n",
      "18: of\n",
      "19: the\n",
      "20: company\n",
      "21: took\n",
      "22: him\n",
      "23: seriously\n",
      "24: .\n",
      "25: “\n",
      "26: I\n",
      "27: can\n",
      "28: tell\n",
      "29: you\n",
      "30: very\n",
      "31: senior\n",
      "32: CEOs\n",
      "33: of\n",
      "34: major\n",
      "35: American\n",
      "36: car\n",
      "37: companies\n",
      "38: would\n",
      "39: shake\n",
      "40: my\n",
      "41: hand\n",
      "42: and\n",
      "43: turn\n",
      "44: away\n",
      "45: because\n",
      "46: I\n",
      "47: was\n",
      "48: n’t\n",
      "49: worth\n",
      "50: talking\n",
      "51: to\n",
      "52: ,\n",
      "53: ”\n",
      "54: said\n",
      "55: Thrun\n",
      "56: ,\n",
      "57: in\n",
      "58: an\n",
      "59: interview\n",
      "60: with\n",
      "61: Recode\n",
      "62: earlier\n",
      "63: this\n",
      "64: week\n",
      "65: .\n"
     ]
    }
   ],
   "source": [
    "#Number of tokens in text\n",
    "for num, token in enumerate(docx):\n",
    "    print(f'{num}: {token.text}')"
   ]
  },
  {
   "cell_type": "markdown",
   "id": "c1837efa",
   "metadata": {},
   "source": [
    "## 2. Embedding"
   ]
  },
  {
   "cell_type": "code",
   "execution_count": 7,
   "id": "b091de25",
   "metadata": {},
   "outputs": [
    {
     "data": {
      "text/plain": [
       "array([ 1.03492558e-01, -9.99394298e-01,  3.91286612e-02, -3.05882883e+00,\n",
       "        4.75878239e+00, -8.13433647e-01, -2.48094654e+00, -3.05946755e+00,\n",
       "        5.27173340e-01,  1.50878453e+00,  3.23129702e+00, -4.56019115e+00,\n",
       "        4.10485446e-01,  8.85138392e-01, -3.51287150e+00, -2.27991605e+00,\n",
       "       -4.35688162e+00,  1.83025956e+00, -4.41841698e+00,  3.75293231e+00,\n",
       "        1.08742666e+00,  1.71857268e-01,  4.50415373e-01,  1.60834622e+00,\n",
       "        2.08884954e+00, -1.73660016e+00,  2.14878607e+00,  2.64554095e+00,\n",
       "        2.05439758e+00, -3.08938563e-01, -5.60664773e-01, -1.35718632e+00,\n",
       "       -9.94471788e-01,  3.80324912e+00, -9.63790059e-01, -3.44084907e+00,\n",
       "       -1.21351826e+00,  7.76718259e-02, -8.70164156e-01,  1.27800488e+00,\n",
       "       -1.27331066e+00, -6.25064611e+00,  1.57126951e+00,  3.60463440e-01,\n",
       "       -1.14918947e-02,  5.19760251e-01, -3.52944160e+00, -2.85665846e+00,\n",
       "        4.44239378e+00, -2.23635650e+00,  2.76743078e+00, -2.28830814e-01,\n",
       "       -1.03909874e+00,  2.05031395e+00,  3.76968431e+00,  1.69012320e+00,\n",
       "        3.07547760e+00,  4.30154419e+00, -1.50814176e+00, -2.69165754e+00,\n",
       "       -3.77211356e+00, -2.62839615e-01,  3.93031061e-01,  2.86785913e+00,\n",
       "       -2.91429329e+00, -1.41944945e-01, -5.53485012e+00, -3.00121665e+00,\n",
       "        1.32219219e+00, -1.21750116e+00,  6.07819438e-01,  1.53585851e-01,\n",
       "       -4.58565116e-01, -9.22394753e-01, -2.49282742e+00,  3.97357273e+00,\n",
       "       -9.50141788e-01,  1.66761613e+00,  2.93281376e-01,  5.10401344e+00,\n",
       "       -1.10016000e+00, -8.35826397e-02,  1.01873660e+00, -8.52338433e-01,\n",
       "        3.38049126e+00,  5.47707319e-01, -1.06564355e+00, -3.48632216e-01,\n",
       "       -3.13333774e+00, -1.28380942e+00,  1.69070458e+00,  1.84075296e-01,\n",
       "       -9.00092244e-01,  2.91011047e+00, -4.20861912e+00,  8.63620043e-01,\n",
       "        1.50054383e+00,  8.93482089e-01,  6.35828376e-01, -1.23509824e+00,\n",
       "       -4.98059511e-01, -1.47920474e-01, -1.37543261e+00, -2.05158710e+00,\n",
       "        2.97332287e+00,  3.21127415e+00,  1.82770288e+00, -1.87729156e+00,\n",
       "       -2.96637797e+00, -9.76694942e-01,  4.66200876e+00, -3.53842711e+00,\n",
       "        2.25805783e+00, -8.60888898e-01,  2.11667967e+00,  3.96406817e+00,\n",
       "       -1.22013831e+00, -3.03885788e-01,  3.14879203e+00,  2.52598554e-01,\n",
       "        3.74350309e+00,  2.12782574e+00, -1.03738666e+00, -1.32705212e+00,\n",
       "       -1.46080780e+00,  8.26820552e-01,  3.62339497e+00, -3.12777281e+00,\n",
       "       -1.07120275e-01,  2.58182675e-01,  3.35080862e-01,  8.83667618e-02,\n",
       "       -3.99638265e-02, -3.67058396e-01, -2.16969952e-01,  2.67078608e-01,\n",
       "       -4.31960300e-02,  2.63092786e-01,  3.02397132e-01, -5.50451458e-01,\n",
       "       -5.99788547e-01, -2.54176557e-01, -2.42131948e-03, -1.05592519e-01,\n",
       "        9.00693610e-02,  7.72924662e-01,  4.53165919e-02,  1.17550716e-01,\n",
       "       -3.22371691e-01,  2.42204130e-01,  4.32584822e-01, -5.12926541e-02,\n",
       "       -2.86746830e-01, -7.44391322e-01,  4.60179478e-01, -3.11690956e-01,\n",
       "       -2.28040755e-01, -2.58412391e-01,  1.29924625e-01, -6.65527284e-02,\n",
       "        1.28562063e-01,  2.52381191e-02,  2.82521784e-01,  3.53634030e-01,\n",
       "        1.04019415e+00, -5.72455525e-01,  4.23145115e-01,  3.38310301e-02,\n",
       "        4.31950510e-01,  6.04261994e-01, -4.46352333e-01, -4.15819049e-01,\n",
       "        3.12141895e-01,  4.44377363e-02, -2.56635189e-01, -3.46854031e-01,\n",
       "       -7.65964538e-02,  9.72264111e-02, -1.17568344e-01,  1.68135688e-01,\n",
       "       -2.46974275e-01,  3.85236919e-01, -7.76914597e-01, -3.28102946e-01,\n",
       "        1.52729213e-01,  5.11708617e-01,  7.92869031e-01, -3.25902551e-03,\n",
       "        2.31736898e-02, -1.17126122e-01, -7.81480312e-01,  3.10534120e-01,\n",
       "        6.98682249e-01,  2.72192538e-01, -2.24932283e-01, -5.09562373e-01,\n",
       "       -1.42063856e-01,  8.32746148e-01,  2.09069207e-01, -5.45725673e-02,\n",
       "       -6.40255988e-01,  1.92225575e-01,  8.27148557e-01, -8.75126243e-01,\n",
       "        2.59246171e-01,  2.83937693e-01,  9.68803644e-01, -7.75417089e-02,\n",
       "        2.18856290e-01,  2.11818457e-01, -2.68899888e-01,  2.21800089e-01,\n",
       "       -4.08204943e-02, -8.95324796e-02, -6.50084853e-01,  8.05236101e-01,\n",
       "       -5.38824201e-01, -4.30792242e-01,  5.84359884e-01, -1.77564859e-01,\n",
       "       -2.38960728e-01, -3.58365327e-01, -2.50715852e-01, -4.25717056e-01,\n",
       "       -2.07392335e-01,  2.04782873e-01, -5.86257100e-01,  6.06554329e-01,\n",
       "        2.41681248e-01,  5.90955138e-01, -5.10059297e-03,  3.08150887e-01,\n",
       "        2.77165383e-01, -5.01642823e-01,  9.08645988e-02,  3.81636694e-02,\n",
       "       -3.44410598e-01, -1.23030849e-01, -2.94574440e-01, -6.17599726e-01,\n",
       "        1.94610178e-01, -3.01076651e-01,  2.15599179e-01, -6.52611017e-01,\n",
       "        1.02664828e-02, -6.90965950e-02,  3.38187009e-01,  5.08537829e-01,\n",
       "        4.69427407e-02, -2.68737897e-02,  4.47840929e-01, -2.39503503e-01,\n",
       "       -2.58982599e-01, -4.17935476e-02, -2.32359707e-01, -1.03731975e-01,\n",
       "       -3.07314932e-01,  2.15446725e-01,  7.76905119e-02,  2.95453846e-01,\n",
       "       -2.03871608e-01,  8.36805105e-02, -3.33246857e-01,  2.08499297e-01,\n",
       "        4.32299972e-01, -9.66276899e-02, -6.28236890e-01, -1.22521855e-01,\n",
       "        6.60393357e-01,  3.63325119e-01, -6.27823353e-01,  1.32396281e+00,\n",
       "       -4.44607884e-02,  3.57895643e-02, -5.65673649e-01, -1.25308499e-01,\n",
       "        3.32517385e-01, -2.43995056e-01,  7.25243688e-02, -2.93859184e-01,\n",
       "       -1.85141295e-01,  5.60644925e-01,  8.30535889e-01,  1.66833162e-01,\n",
       "       -2.94119120e-03, -5.66477418e-01,  1.53795362e-01,  2.52446830e-02,\n",
       "        7.63985634e-01, -1.69866532e-02,  8.37652683e-01, -3.70661169e-01,\n",
       "       -1.13588423e-01, -4.38845277e-01,  1.45828471e-01, -5.31595349e-01,\n",
       "       -4.03118581e-01, -7.34818280e-01,  2.17782110e-02, -3.43455344e-01,\n",
       "       -3.48140806e-01,  8.67084503e-01, -1.01051211e-01, -4.71949786e-01,\n",
       "       -1.23035900e-01, -6.93495631e-01, -3.17971349e-01, -1.89534888e-01,\n",
       "       -6.25270605e-01,  4.06865776e-01, -1.48322314e-01, -1.19573087e-01,\n",
       "       -4.53763247e-01, -9.86758918e-02,  7.26858020e-01, -8.62628222e-02,\n",
       "       -2.70403326e-02,  2.66134590e-01, -1.17435522e-01,  3.20219100e-01,\n",
       "        4.66005474e-01,  6.82180941e-01, -2.73171186e-01,  5.23985982e-01,\n",
       "       -4.78024989e-01,  5.12962714e-02, -1.79278255e-01,  2.70308644e-01,\n",
       "        2.94812262e-01,  2.10958868e-01,  5.86072981e-01, -1.64641738e-01,\n",
       "       -9.92703661e-02,  8.11135471e-01,  5.91296613e-01, -5.94944119e-01,\n",
       "        3.68223190e-01,  1.12428084e-01, -1.01409853e-01, -5.99201798e-01,\n",
       "       -6.48367763e-01, -5.12709379e-01, -1.52230829e-01, -6.24355376e-02,\n",
       "       -5.28674200e-02, -7.58558750e-01, -2.58086681e-01, -2.13465318e-01,\n",
       "        3.57153475e-01, -2.32521296e-02, -3.49200889e-02, -1.76665038e-01,\n",
       "        5.23694277e-01, -2.23307952e-01, -4.21422720e-01,  1.41510978e-01,\n",
       "        1.65743291e-01, -7.58638501e-01,  1.90692887e-01, -9.76057649e-01,\n",
       "        4.90898728e-01,  6.40295804e-01,  5.10423541e-01, -7.18337595e-02,\n",
       "       -8.90596271e-01, -7.33565807e-01,  1.86773136e-01,  1.15723386e-01,\n",
       "        2.11963475e-01,  6.54630214e-02,  2.53366947e-01,  7.03134164e-02,\n",
       "       -1.74831599e-01,  9.74816531e-02,  6.18843064e-02, -4.25135255e-01,\n",
       "       -2.54035816e-02,  1.02524623e-01, -2.29902208e-01,  7.71485120e-02,\n",
       "       -5.06380200e-01,  8.35416690e-02, -2.70585060e-01,  4.10474777e-01],\n",
       "      dtype=float32)"
      ]
     },
     "execution_count": 7,
     "metadata": {},
     "output_type": "execute_result"
    }
   ],
   "source": [
    "#Embedding with spacy\n",
    "sentence = \"I love learning\"\n",
    "\n",
    "# Assigning vectors to words\n",
    "doc = nlp(sentence)\n",
    "\n",
    "#Checking vector for 2nd word in sentence: 'Love'\n",
    "doc[1].vector"
   ]
  },
  {
   "cell_type": "code",
   "execution_count": 8,
   "id": "e3b13b87",
   "metadata": {},
   "outputs": [
    {
     "data": {
      "text/plain": [
       "array([-6.20014250e-01, -5.18343031e-01,  1.65436268e+00, -5.91645658e-01,\n",
       "        8.27838480e-01, -1.97387397e-01, -1.25076401e+00, -1.85162723e+00,\n",
       "       -9.24894154e-01, -1.46129802e-01,  3.16667056e+00, -2.42977929e+00,\n",
       "        1.27589047e+00,  7.44478226e-01, -2.49340653e+00, -5.45810103e-01,\n",
       "       -2.23134208e+00, -7.43896186e-01, -1.81817368e-01,  1.08086574e+00,\n",
       "        1.85745490e+00,  7.59144783e-01, -3.52969497e-01,  1.54789579e+00,\n",
       "       -3.33573431e-01, -2.12107301e+00, -8.94382715e-01, -9.62785911e-03,\n",
       "        4.64864403e-01, -1.22728503e+00, -5.27982175e-01, -2.25586090e-02,\n",
       "       -3.81013781e-01,  1.33011246e+00, -7.90472209e-01, -1.61791146e+00,\n",
       "        3.59495163e-01,  9.92690325e-01, -1.34316728e-01,  4.84985113e-01,\n",
       "        3.48023921e-01, -2.11745262e+00,  1.95988929e+00, -9.58492279e-01,\n",
       "       -1.14997303e+00,  9.09446716e-01, -1.77066469e+00,  6.91713572e-01,\n",
       "        1.52567327e+00, -1.66518497e+00,  2.59987926e+00, -1.26903617e+00,\n",
       "        5.68261802e-01, -7.09408745e-02,  9.34532344e-01,  1.17559850e+00,\n",
       "        1.22862232e+00,  2.94613194e+00, -1.79320097e-01,  1.26072451e-01,\n",
       "       -3.61493564e+00,  1.59452248e+00, -1.28796887e+00,  2.60912657e+00,\n",
       "       -1.27174926e+00,  8.63935232e-01, -1.47044408e+00, -1.93150043e+00,\n",
       "        8.16916466e-01, -2.00840497e+00,  9.12303746e-01, -9.91934955e-01,\n",
       "       -5.44298105e-02, -1.25193521e-01, -1.87621963e+00,  1.55614793e+00,\n",
       "        1.09161818e+00, -1.01700284e-01,  4.79456663e-01,  1.46802711e+00,\n",
       "       -1.45709670e+00,  6.31461263e-01,  2.57776713e+00, -1.43937778e+00,\n",
       "        2.65434480e+00, -9.65090692e-01,  1.84812114e-01, -1.51379153e-01,\n",
       "       -1.90396011e+00,  5.89148521e-01, -1.71478045e+00,  1.81637347e+00,\n",
       "        8.76972079e-02,  1.21572495e+00, -3.31709099e+00,  3.30554008e-01,\n",
       "       -3.78626972e-01, -5.15069962e-01,  1.90595233e+00, -3.02151322e-01,\n",
       "       -1.88908219e-01,  1.52095675e-01, -6.48292959e-01, -7.48066902e-01,\n",
       "        1.88288462e+00,  3.04889351e-01,  2.13117576e+00, -2.37730980e+00,\n",
       "       -9.11280692e-01, -1.57823431e+00,  9.78277385e-01, -6.17935479e-01,\n",
       "        2.08068871e+00, -9.93075907e-01,  1.87269449e+00,  9.23624337e-01,\n",
       "       -6.73286140e-01, -5.54585457e-02,  1.10071480e+00,  1.21267951e+00,\n",
       "        2.74362469e+00,  5.79689205e-01, -4.65680689e-01,  1.39883709e+00,\n",
       "       -1.39330161e+00,  5.27525246e-01,  2.60217738e+00, -3.14015269e+00,\n",
       "       -2.07719922e-01, -1.41360447e-01,  2.89331377e-02, -2.05312014e-01,\n",
       "        2.13626549e-01, -1.70015931e-01, -3.87430906e-01,  5.18832743e-01,\n",
       "       -8.77672806e-02,  5.35974205e-01,  2.00926349e-01, -5.06627858e-01,\n",
       "       -3.67054433e-01, -4.09638993e-02, -2.70891219e-01,  1.85200527e-01,\n",
       "        8.47415030e-02,  5.31104088e-01,  2.57114619e-01, -1.50102839e-01,\n",
       "       -1.68295041e-01,  3.60278755e-01,  6.95563182e-02, -1.09899916e-01,\n",
       "       -1.09151393e-01, -4.60318893e-01,  2.23834828e-01, -3.06708723e-01,\n",
       "       -7.44943693e-02, -3.59364510e-01,  1.08681940e-01,  1.17914803e-01,\n",
       "       -3.98087390e-02,  1.29119590e-01, -9.45146158e-02,  4.93175477e-01,\n",
       "        5.33351719e-01, -4.07387763e-01,  3.34525317e-01,  2.04062298e-01,\n",
       "        6.79958314e-02,  3.54446977e-01, -3.16657990e-01, -1.95904031e-01,\n",
       "        1.36008129e-01, -4.67703529e-02,  1.69647172e-01, -8.10697004e-02,\n",
       "        1.22808665e-02, -1.49607062e-02, -2.87737668e-01,  1.39477849e-02,\n",
       "       -3.87651116e-01, -5.79968281e-02, -2.95577198e-01, -1.68770418e-01,\n",
       "        4.00401622e-01, -7.29581341e-02,  4.29101139e-01,  1.79520249e-03,\n",
       "        2.71603465e-01,  7.94779062e-02, -3.70639652e-01,  1.06923890e+00,\n",
       "       -6.61386326e-02, -3.73439002e-03, -1.11538172e-03, -1.00295722e-01,\n",
       "       -2.59936661e-01,  6.48135483e-01, -2.60892212e-02, -3.53064656e-01,\n",
       "       -2.04261377e-01,  1.94264829e-01,  5.54816425e-01, -2.61969775e-01,\n",
       "        6.11346811e-02,  5.53115197e-02,  5.96867383e-01, -1.42363966e-01,\n",
       "       -1.24267740e-02,  3.88893455e-01, -1.16241686e-01,  7.20481277e-02,\n",
       "        2.56973237e-01, -2.94516742e-01, -4.80005503e-01,  8.61840472e-02,\n",
       "       -1.99600682e-01, -9.73412097e-02,  1.83749512e-01, -2.12463513e-01,\n",
       "        3.21580768e-02, -4.28023726e-01,  1.77948400e-01, -4.71667089e-02,\n",
       "       -5.40296257e-01, -1.10092171e-01, -2.57338077e-01,  1.65264700e-02,\n",
       "       -1.29125612e-02,  6.60809577e-02, -1.15614785e-02,  6.19716942e-01,\n",
       "        4.51822668e-01, -2.88421839e-01, -1.79611325e-01,  2.06773758e-01,\n",
       "       -1.18725598e-01, -1.75233439e-01, -1.58798456e-01, -4.36450630e-01,\n",
       "        8.59240666e-02, -1.01083137e-01,  1.20668091e-01, -4.07321602e-01,\n",
       "       -1.92343891e-01,  2.30921316e-03,  1.75798848e-01,  4.70495410e-02,\n",
       "       -2.62099117e-01, -1.50707737e-01,  2.97028571e-01,  1.10923775e-01,\n",
       "        2.72946805e-01,  1.88489422e-01, -1.49364278e-04,  2.04283461e-01,\n",
       "       -2.14523956e-01,  6.77506402e-02,  2.48486981e-01,  1.15276076e-01,\n",
       "       -2.11076394e-01, -4.86703992e-01, -3.18940520e-01, -9.21821967e-02,\n",
       "        1.60629019e-01, -1.22437656e-01, -4.83002424e-01, -1.02299429e-01,\n",
       "        2.41596162e-01,  8.74437094e-02, -2.82095909e-01,  6.47640646e-01,\n",
       "        1.22158825e-01, -2.61616915e-01, -1.75183997e-01, -1.63049495e-03,\n",
       "       -2.17090547e-02, -3.06594610e-01,  7.48847961e-01,  4.90291864e-02,\n",
       "        6.24721348e-02,  1.15167141e-01, -2.83203530e-03, -1.84516713e-01,\n",
       "       -1.01127684e-01,  8.93516615e-02,  1.51395351e-02, -1.15550242e-01,\n",
       "        2.38653421e-01,  6.67246580e-02,  2.86275357e-01, -7.61045003e-03,\n",
       "        2.67727673e-02, -1.81596681e-01,  2.59258777e-01, -3.73335838e-01,\n",
       "       -8.01009163e-02, -2.11753547e-01,  8.87380019e-02, -2.62792408e-01,\n",
       "        4.47438695e-02,  2.65863299e-01,  2.88865361e-02, -5.46394169e-01,\n",
       "       -1.52542830e-01, -7.40653574e-01,  3.06047946e-01, -6.58863127e-01,\n",
       "       -4.76367593e-01,  1.31958619e-01,  8.08729157e-02, -7.91150555e-02,\n",
       "       -3.83166641e-01,  1.10148706e-01,  5.99111617e-01, -3.02305788e-01,\n",
       "        1.56146035e-01,  3.68696451e-01, -1.68606266e-01,  1.14476727e-02,\n",
       "        3.89808565e-01,  9.71424758e-01, -2.46946171e-01,  4.46637630e-01,\n",
       "       -5.40070534e-01,  4.03350025e-01, -9.39039513e-02,  1.72390878e-01,\n",
       "        2.33830690e-01,  3.83823030e-02,  3.40710163e-01,  8.31706896e-02,\n",
       "       -1.78722262e-01,  5.58835089e-01,  2.78405356e-03, -5.01144290e-01,\n",
       "       -2.98157129e-02, -2.35368952e-01, -1.91606835e-01, -4.47105318e-01,\n",
       "       -6.35226429e-01,  1.02938831e-01, -6.80904090e-02,  4.87549007e-02,\n",
       "       -5.85122593e-02, -4.86485392e-01, -1.47837801e-02,  1.73417032e-01,\n",
       "        5.22017777e-01,  5.28541207e-02, -3.47753875e-02,  1.34180486e-01,\n",
       "       -1.46992758e-01,  1.49417460e-01, -2.01596379e-01,  1.35427102e-01,\n",
       "        1.06502520e-02, -5.28371453e-01, -1.76802635e-01, -2.81789988e-01,\n",
       "        1.81396618e-01,  2.49171004e-01,  2.81512976e-01, -3.81778181e-02,\n",
       "       -7.47838020e-01, -4.06743258e-01,  2.48052284e-01,  3.49034858e-03,\n",
       "        1.54634878e-01,  3.84978503e-01,  3.31165604e-02,  4.77676034e-01,\n",
       "       -2.89294153e-01, -1.33300707e-01,  3.10424000e-01,  2.52022922e-01,\n",
       "       -3.55867553e-03, -1.12993479e-01, -2.54238069e-01, -4.47429754e-02,\n",
       "        1.75223514e-01,  6.94321766e-02,  1.83898389e-01,  2.13069275e-01],\n",
       "      dtype=float32)"
      ]
     },
     "execution_count": 8,
     "metadata": {},
     "output_type": "execute_result"
    }
   ],
   "source": [
    "# Mean vector for whole sentence (used in sentence classification)\n",
    "doc.vector"
   ]
  },
  {
   "cell_type": "markdown",
   "id": "4bd07777",
   "metadata": {},
   "source": [
    "### Embedding using Flair"
   ]
  },
  {
   "cell_type": "markdown",
   "id": "62de3f86",
   "metadata": {},
   "source": [
    "- This embeds the sentence with GloVe embeddings, then prints out the embedding of each word. Each word embedding in this case has the shape [100], i.e. a 100 dimensional vector.\n",
    "\n",
    "- Then we use torch.cat to concatenate all embeddings of all words in the sentence into a tensor of shape [3, 100] (3 words, each 100 dimensions).\n",
    "\n",
    "- If you want to have a batch of more than one sentence, you need to use torch.cat again to concatenate the tensors of each sentence."
   ]
  },
  {
   "cell_type": "code",
   "execution_count": 9,
   "id": "8d096fef",
   "metadata": {},
   "outputs": [
    {
     "name": "stdout",
     "output_type": "stream",
     "text": [
      "Sentence: \"I love learning\"   [− Tokens: 3]\n"
     ]
    }
   ],
   "source": [
    "#Tokenaize setence with Flair\n",
    "s= Sentence(\"I love learning\")\n",
    "print(s)"
   ]
  },
  {
   "cell_type": "code",
   "execution_count": 10,
   "id": "5832a4d2",
   "metadata": {},
   "outputs": [
    {
     "data": {
      "text/plain": [
       "[Sentence: \"I love learning\"   [− Tokens: 3]]"
      ]
     },
     "execution_count": 10,
     "metadata": {},
     "output_type": "execute_result"
    }
   ],
   "source": [
    "# load word embeddings\n",
    "embeddings = WordEmbeddings('glove')\n",
    "\n",
    "# embed sentences 's'\n",
    "embeddings.embed(s)"
   ]
  },
  {
   "cell_type": "code",
   "execution_count": 11,
   "id": "9c90af6d",
   "metadata": {},
   "outputs": [
    {
     "name": "stdout",
     "output_type": "stream",
     "text": [
      "tensor([-0.0465,  0.6197,  0.5665, -0.4658, -1.1890,  0.4460,  0.0660,  0.3191,\n",
      "         0.1468, -0.2212,  0.7924,  0.2991,  0.1607,  0.0253,  0.1868, -0.3100,\n",
      "        -0.2811,  0.6051, -1.0654,  0.5248,  0.0642,  1.0358, -0.4078, -0.3801,\n",
      "         0.3080,  0.5996, -0.2699, -0.7603,  0.9422, -0.4692, -0.1828,  0.9065,\n",
      "         0.7967,  0.2482,  0.2571,  0.6232, -0.4477,  0.6536,  0.7690, -0.5123,\n",
      "        -0.4433, -0.2187,  0.3837, -1.1483, -0.9440, -0.1506,  0.3001, -0.5781,\n",
      "         0.2017, -1.6591, -0.0792,  0.0264,  0.2205,  0.9971, -0.5754, -2.7266,\n",
      "         0.3145,  0.7052,  1.4381,  0.9913,  0.1398,  1.3474, -1.1753,  0.0040,\n",
      "         1.0298,  0.0646,  0.9089,  0.8287, -0.4700, -0.1058,  0.5916, -0.4221,\n",
      "         0.5733, -0.5411,  0.1077,  0.3978, -0.0487,  0.0646, -0.6144, -0.2860,\n",
      "         0.5067, -0.4976, -0.8157,  0.1641, -1.9630, -0.2669, -0.3759, -0.9585,\n",
      "        -0.8584, -0.7158, -0.3234, -0.4312,  0.4139,  0.2837, -0.7093,  0.1500,\n",
      "        -0.2154, -0.3762, -0.0325,  0.8062])\n",
      "torch.Size([100])\n",
      "tensor([ 2.5975e-01,  5.5833e-01,  5.7986e-01, -2.1361e-01,  1.3084e-01,\n",
      "         9.4385e-01, -4.2817e-01, -3.7420e-01, -9.4499e-02, -4.3344e-01,\n",
      "        -2.0937e-01,  3.4702e-01,  8.2516e-02,  7.9735e-01,  1.6606e-01,\n",
      "        -2.6878e-01,  5.8830e-01,  6.7397e-01, -4.9965e-01,  1.4764e+00,\n",
      "         5.5261e-01,  2.5295e-02, -1.6068e-01, -1.3878e-01,  4.8686e-01,\n",
      "         1.1420e+00,  5.6195e-02, -7.3306e-01,  8.6932e-01, -3.5892e-01,\n",
      "        -5.1877e-01,  9.0402e-01,  4.9249e-01, -1.4915e-01,  4.8493e-02,\n",
      "         2.6096e-01,  1.1352e-01,  4.1275e-01,  5.3803e-01, -4.4950e-01,\n",
      "         8.5733e-02,  9.1184e-02,  5.0177e-03, -3.4645e-01, -1.1058e-01,\n",
      "        -2.2235e-01, -6.5290e-01, -5.1838e-02,  5.3791e-01, -8.1040e-01,\n",
      "        -1.8253e-01,  2.4194e-01,  5.4855e-01,  8.7731e-01,  2.2165e-01,\n",
      "        -2.7124e+00,  4.9405e-01,  4.4703e-01,  5.5882e-01,  2.6076e-01,\n",
      "         2.3760e-01,  1.0668e+00, -5.6971e-01, -6.4960e-01,  3.3511e-01,\n",
      "         3.4609e-01,  1.1033e+00,  8.5261e-02,  2.4847e-02, -4.5453e-01,\n",
      "         7.7012e-02,  2.1321e-01,  1.0444e-01,  6.7157e-02, -3.4261e-01,\n",
      "         8.5534e-01,  1.3361e-01, -4.3296e-01, -5.6726e-01, -2.1348e-01,\n",
      "        -3.3277e-01,  3.4351e-01,  3.2164e-01,  4.4527e-01, -1.3208e+00,\n",
      "        -1.3270e-01, -7.0820e-01, -4.8472e-01, -6.9396e-01, -2.6080e-01,\n",
      "        -4.7099e-01, -5.7492e-02,  9.3587e-02,  4.0006e-01, -4.3419e-01,\n",
      "        -2.7364e-01, -7.7017e-01, -8.4028e-01, -1.5620e-03,  6.2223e-01])\n",
      "torch.Size([100])\n",
      "tensor([ 0.6481,  0.6988, -0.3995,  0.7763, -0.1313,  0.2024, -0.3340, -0.0067,\n",
      "         0.0617,  0.1885, -0.1056, -0.3132, -0.0825, -0.0805,  0.3858, -0.1030,\n",
      "         0.0494,  0.1722, -0.5908,  0.7707, -1.2768, -0.2519,  0.2195, -0.2018,\n",
      "        -0.3058, -0.1852,  0.0109, -0.0753, -0.3473,  0.6200, -0.9970,  1.0516,\n",
      "        -0.4207, -0.3963,  0.3261, -0.4006, -0.4646,  0.6990,  0.2957, -0.3531,\n",
      "        -0.5907,  0.2900, -0.2573, -0.1317, -0.6980,  0.4982,  0.4150,  0.1487,\n",
      "         0.0833, -0.4354, -0.0940, -0.3543,  0.0150,  0.6359,  0.5456, -1.8439,\n",
      "         0.7884, -0.1984,  1.5707,  0.2599,  0.2087,  0.7521, -0.0855, -0.7072,\n",
      "         0.0941,  0.4448,  0.0878, -0.3478,  0.5715,  0.1866, -0.2943,  0.4293,\n",
      "         0.2839, -0.6161, -0.3411,  0.5819, -0.1639, -0.0082, -0.2716, -0.2711,\n",
      "        -0.2147,  0.3738, -0.5352, -0.0609, -1.6317,  0.8514,  0.0560, -0.5386,\n",
      "        -0.5838, -0.1961, -0.3394, -0.3141,  0.2300,  0.3269,  0.0430, -0.0375,\n",
      "        -0.0921, -1.0734,  0.8924,  0.4178])\n",
      "torch.Size([100])\n"
     ]
    }
   ],
   "source": [
    "# go through each token in sentence\n",
    "for token in s:\n",
    "\n",
    "# print embedding of this Token\n",
    "    print(token.embedding)\n",
    "\n",
    "\n",
    "# print shape of embedding of this Token   \n",
    "    print(token.embedding.shape)\n",
    "  "
   ]
  },
  {
   "cell_type": "code",
   "execution_count": 12,
   "id": "0d1fd907",
   "metadata": {},
   "outputs": [
    {
     "name": "stdout",
     "output_type": "stream",
     "text": [
      "torch.Size([100])\n",
      "torch.Size([100])\n",
      "torch.Size([100])\n"
     ]
    }
   ],
   "source": [
    "# print shape of embedding of this Token\n",
    "for token in s:\n",
    "    print(token.embedding.shape)"
   ]
  },
  {
   "cell_type": "code",
   "execution_count": 17,
   "id": "0e1e5a94",
   "metadata": {},
   "outputs": [],
   "source": [
    "'''\n",
    "A tensor is a multidimension array of a \n",
    "tokenaized(broken down sentence in individual words) sentence\n",
    "'''\n",
    "\n",
    "# make one tensor(multi-dimension array) of all word embeddings of a sentence 's'\n",
    "sentence_tensor = torch.cat([token.embedding.unsqueeze(0) for token in s], dim=0)"
   ]
  },
  {
   "cell_type": "code",
   "execution_count": 15,
   "id": "4d02fd30",
   "metadata": {},
   "outputs": [
    {
     "name": "stdout",
     "output_type": "stream",
     "text": [
      "torch.Size([3, 100])\n"
     ]
    }
   ],
   "source": [
    "'''\n",
    "output is 3 rows representing the 3 words in the sentence\n",
    "&\n",
    "Each word has 100 columns (which is the size of @column)\n",
    "'''\n",
    "\n",
    "# print tensor(multi-dimension array) shape \n",
    "print(sentence_tensor.shape) \n"
   ]
  },
  {
   "cell_type": "markdown",
   "id": "8dfb0f3b",
   "metadata": {},
   "source": [
    "## Lemmatization/ finding Pos tags for @ token"
   ]
  },
  {
   "cell_type": "code",
   "execution_count": 5,
   "id": "374fb31e",
   "metadata": {},
   "outputs": [],
   "source": [
    "# sort so as to group together inflected or variant forms(isomers) of the same word.\n",
    "\n",
    "\n",
    "'''\n",
    "e.g of lemmatizing\n",
    "walking   when lemmatized will result into walk\n",
    "walked\n",
    "\n",
    "steps or lemmatizing sentences\n",
    "\n",
    "1. find POS (part ofspeech) tag for @ token(word) with nltk\n",
    "2. then find corresponding wordnet tag for nltk pos tag\n",
    "3. then lemmatize the tokens using the wordnet tags\n",
    "\n",
    "'''\n",
    "\n",
    "lemmatizer = WordNetLemmatizer()\n",
    "\n",
    "# function to convert nltk tag to wordnet tag\n",
    "def nltk_tag_to_wordnet_tag(nltk_tag):\n",
    "    if nltk_tag.startswith('J'): #Adjective, describes noun, e.g red dress\n",
    "        return wordnet.ADJ\n",
    "    elif nltk_tag.startswith('V'): #verb = doing word e.g run\n",
    "        return wordnet.VERB\n",
    "    elif nltk_tag.startswith('N'): # noun, name of persons, things, places e.g Uganda, Martin etc\n",
    "        return wordnet.NOUN\n",
    "    elif nltk_tag.startswith('R'): #Adverb qualifies a verb, e.g running \"quickly\"\n",
    "        return wordnet.ADV\n",
    "    else:          \n",
    "        return None"
   ]
  },
  {
   "cell_type": "code",
   "execution_count": 6,
   "id": "ce0ba21a",
   "metadata": {},
   "outputs": [
    {
     "name": "stdout",
     "output_type": "stream",
     "text": [
      "I am loving it\n",
      "loving\n",
      "love\n",
      "I be love it\n"
     ]
    }
   ],
   "source": [
    "\n",
    "def lemmatize_sentence(sentence):\n",
    "    #tokenize the sentence and find the POS tag for each token\n",
    "    nltk_tagged = nltk.pos_tag(nltk.word_tokenize(sentence))  \n",
    "    \n",
    "    #tuple of (token, wordnet_tag)\n",
    "    wordnet_tagged = map(lambda x: (x[0], nltk_tag_to_wordnet_tag(x[1])), nltk_tagged)\n",
    "    lemmatized_sentence = []\n",
    "    for word, tag in wordnet_tagged:\n",
    "        if tag is None:\n",
    "            #if there is no available tag, append the token as is\n",
    "            lemmatized_sentence.append(word)\n",
    "        else:        \n",
    "            #else use the tag to lemmatize the token\n",
    "            lemmatized_sentence.append(lemmatizer.lemmatize(word, tag))\n",
    "    return \" \".join(lemmatized_sentence)\n",
    "\n",
    "print(lemmatizer.lemmatize(\"I am loving it\")) #I am loving it\n",
    "print(lemmatizer.lemmatize(\"loving\")) #loving\n",
    "print(lemmatizer.lemmatize(\"loving\", \"v\")) #love\n",
    "print(lemmatize_sentence(\"I am loving it\")) #I be love it"
   ]
  },
  {
   "cell_type": "markdown",
   "id": "3b064f40",
   "metadata": {},
   "source": [
    "#### Lemmatizing with nltk and wordnet POS tags"
   ]
  },
  {
   "cell_type": "code",
   "execution_count": 13,
   "id": "e6bae539",
   "metadata": {},
   "outputs": [
    {
     "name": "stdout",
     "output_type": "stream",
     "text": [
      "Those children are playing. this game, those games, I play he plays\n",
      "Those child be play . this game , those game , I play he play\n"
     ]
    }
   ],
   "source": [
    "my_sentence = \"Those children are playing. this game, those games, I play he plays\"\n",
    "\n",
    "#Lemmatize a sentence using the nltk POS tag \n",
    "print(lemmatizer.lemmatize(my_sentence))\n",
    "\n",
    "\n",
    "#Lemmatize a sentence using the above fucntion with wordnet POS tag \n",
    "print(lemmatize_sentence(my_sentence)) "
   ]
  },
  {
   "cell_type": "code",
   "execution_count": 12,
   "id": "30a400e6",
   "metadata": {},
   "outputs": [
    {
     "name": "stdout",
     "output_type": "stream",
     "text": [
      "rocks : rock\n",
      "corpora : corpus\n"
     ]
    }
   ],
   "source": [
    "#Example of lemmatizing a single word(token)\n",
    "print(lemmatize_sentence(\"I am loving it\"))"
   ]
  },
  {
   "cell_type": "markdown",
   "id": "866aad2b",
   "metadata": {},
   "source": [
    "## Chunking"
   ]
  },
  {
   "cell_type": "code",
   "execution_count": 7,
   "id": "7e7735a6",
   "metadata": {},
   "outputs": [
    {
     "ename": "TypeError",
     "evalue": "__init__() got an unexpected keyword argument 'encoding'",
     "output_type": "error",
     "traceback": [
      "\u001b[1;31m---------------------------------------------------------------------------\u001b[0m",
      "\u001b[1;31mTypeError\u001b[0m                                 Traceback (most recent call last)",
      "\u001b[1;32m<ipython-input-7-8a30a8e08200>\u001b[0m in \u001b[0;36m<module>\u001b[1;34m\u001b[0m\n\u001b[0;32m      6\u001b[0m \u001b[0msentence_spans\u001b[0m \u001b[1;33m=\u001b[0m \u001b[0mlist\u001b[0m\u001b[1;33m(\u001b[0m\u001b[0mdoc\u001b[0m\u001b[1;33m.\u001b[0m\u001b[0msents\u001b[0m\u001b[1;33m)\u001b[0m\u001b[1;33m\u001b[0m\u001b[1;33m\u001b[0m\u001b[0m\n\u001b[0;32m      7\u001b[0m \u001b[1;31m# Display SpaCy vizualizer for each sentence\u001b[0m\u001b[1;33m\u001b[0m\u001b[1;33m\u001b[0m\u001b[1;33m\u001b[0m\u001b[0m\n\u001b[1;32m----> 8\u001b[1;33m \u001b[0mdisplacy\u001b[0m\u001b[1;33m.\u001b[0m\u001b[0mrender\u001b[0m\u001b[1;33m(\u001b[0m\u001b[0msentence_spans\u001b[0m\u001b[1;33m,\u001b[0m \u001b[0mstyle\u001b[0m\u001b[1;33m=\u001b[0m\u001b[1;34m\"dep\"\u001b[0m\u001b[1;33m)\u001b[0m\u001b[1;33m\u001b[0m\u001b[1;33m\u001b[0m\u001b[0m\n\u001b[0m",
      "\u001b[1;32m~\\anaconda3\\envs\\nlp\\lib\\site-packages\\spacy\\displacy\\__init__.py\u001b[0m in \u001b[0;36mrender\u001b[1;34m(docs, style, page, minify, jupyter, options, manual)\u001b[0m\n\u001b[0;32m     37\u001b[0m     \u001b[0mrenderer\u001b[0m\u001b[1;33m,\u001b[0m \u001b[0mconverter\u001b[0m \u001b[1;33m=\u001b[0m \u001b[0mfactories\u001b[0m\u001b[1;33m[\u001b[0m\u001b[0mstyle\u001b[0m\u001b[1;33m]\u001b[0m\u001b[1;33m\u001b[0m\u001b[1;33m\u001b[0m\u001b[0m\n\u001b[0;32m     38\u001b[0m     \u001b[0mrenderer\u001b[0m \u001b[1;33m=\u001b[0m \u001b[0mrenderer\u001b[0m\u001b[1;33m(\u001b[0m\u001b[0moptions\u001b[0m\u001b[1;33m=\u001b[0m\u001b[0moptions\u001b[0m\u001b[1;33m)\u001b[0m\u001b[1;33m\u001b[0m\u001b[1;33m\u001b[0m\u001b[0m\n\u001b[1;32m---> 39\u001b[1;33m     \u001b[0mparsed\u001b[0m \u001b[1;33m=\u001b[0m \u001b[1;33m[\u001b[0m\u001b[0mconverter\u001b[0m\u001b[1;33m(\u001b[0m\u001b[0mdoc\u001b[0m\u001b[1;33m,\u001b[0m \u001b[0moptions\u001b[0m\u001b[1;33m)\u001b[0m \u001b[1;32mfor\u001b[0m \u001b[0mdoc\u001b[0m \u001b[1;32min\u001b[0m \u001b[0mdocs\u001b[0m\u001b[1;33m]\u001b[0m \u001b[1;32mif\u001b[0m \u001b[1;32mnot\u001b[0m \u001b[0mmanual\u001b[0m \u001b[1;32melse\u001b[0m \u001b[0mdocs\u001b[0m\u001b[1;33m\u001b[0m\u001b[1;33m\u001b[0m\u001b[0m\n\u001b[0m\u001b[0;32m     40\u001b[0m     \u001b[0m_html\u001b[0m\u001b[1;33m[\u001b[0m\u001b[1;34m'parsed'\u001b[0m\u001b[1;33m]\u001b[0m \u001b[1;33m=\u001b[0m \u001b[0mrenderer\u001b[0m\u001b[1;33m.\u001b[0m\u001b[0mrender\u001b[0m\u001b[1;33m(\u001b[0m\u001b[0mparsed\u001b[0m\u001b[1;33m,\u001b[0m \u001b[0mpage\u001b[0m\u001b[1;33m=\u001b[0m\u001b[0mpage\u001b[0m\u001b[1;33m,\u001b[0m \u001b[0mminify\u001b[0m\u001b[1;33m=\u001b[0m\u001b[0mminify\u001b[0m\u001b[1;33m)\u001b[0m\u001b[1;33m.\u001b[0m\u001b[0mstrip\u001b[0m\u001b[1;33m(\u001b[0m\u001b[1;33m)\u001b[0m\u001b[1;33m\u001b[0m\u001b[1;33m\u001b[0m\u001b[0m\n\u001b[0;32m     41\u001b[0m     \u001b[0mhtml\u001b[0m \u001b[1;33m=\u001b[0m \u001b[0m_html\u001b[0m\u001b[1;33m[\u001b[0m\u001b[1;34m'parsed'\u001b[0m\u001b[1;33m]\u001b[0m\u001b[1;33m\u001b[0m\u001b[1;33m\u001b[0m\u001b[0m\n",
      "\u001b[1;32m~\\anaconda3\\envs\\nlp\\lib\\site-packages\\spacy\\displacy\\__init__.py\u001b[0m in \u001b[0;36m<listcomp>\u001b[1;34m(.0)\u001b[0m\n\u001b[0;32m     37\u001b[0m     \u001b[0mrenderer\u001b[0m\u001b[1;33m,\u001b[0m \u001b[0mconverter\u001b[0m \u001b[1;33m=\u001b[0m \u001b[0mfactories\u001b[0m\u001b[1;33m[\u001b[0m\u001b[0mstyle\u001b[0m\u001b[1;33m]\u001b[0m\u001b[1;33m\u001b[0m\u001b[1;33m\u001b[0m\u001b[0m\n\u001b[0;32m     38\u001b[0m     \u001b[0mrenderer\u001b[0m \u001b[1;33m=\u001b[0m \u001b[0mrenderer\u001b[0m\u001b[1;33m(\u001b[0m\u001b[0moptions\u001b[0m\u001b[1;33m=\u001b[0m\u001b[0moptions\u001b[0m\u001b[1;33m)\u001b[0m\u001b[1;33m\u001b[0m\u001b[1;33m\u001b[0m\u001b[0m\n\u001b[1;32m---> 39\u001b[1;33m     \u001b[0mparsed\u001b[0m \u001b[1;33m=\u001b[0m \u001b[1;33m[\u001b[0m\u001b[0mconverter\u001b[0m\u001b[1;33m(\u001b[0m\u001b[0mdoc\u001b[0m\u001b[1;33m,\u001b[0m \u001b[0moptions\u001b[0m\u001b[1;33m)\u001b[0m \u001b[1;32mfor\u001b[0m \u001b[0mdoc\u001b[0m \u001b[1;32min\u001b[0m \u001b[0mdocs\u001b[0m\u001b[1;33m]\u001b[0m \u001b[1;32mif\u001b[0m \u001b[1;32mnot\u001b[0m \u001b[0mmanual\u001b[0m \u001b[1;32melse\u001b[0m \u001b[0mdocs\u001b[0m\u001b[1;33m\u001b[0m\u001b[1;33m\u001b[0m\u001b[0m\n\u001b[0m\u001b[0;32m     40\u001b[0m     \u001b[0m_html\u001b[0m\u001b[1;33m[\u001b[0m\u001b[1;34m'parsed'\u001b[0m\u001b[1;33m]\u001b[0m \u001b[1;33m=\u001b[0m \u001b[0mrenderer\u001b[0m\u001b[1;33m.\u001b[0m\u001b[0mrender\u001b[0m\u001b[1;33m(\u001b[0m\u001b[0mparsed\u001b[0m\u001b[1;33m,\u001b[0m \u001b[0mpage\u001b[0m\u001b[1;33m=\u001b[0m\u001b[0mpage\u001b[0m\u001b[1;33m,\u001b[0m \u001b[0mminify\u001b[0m\u001b[1;33m=\u001b[0m\u001b[0mminify\u001b[0m\u001b[1;33m)\u001b[0m\u001b[1;33m.\u001b[0m\u001b[0mstrip\u001b[0m\u001b[1;33m(\u001b[0m\u001b[1;33m)\u001b[0m\u001b[1;33m\u001b[0m\u001b[1;33m\u001b[0m\u001b[0m\n\u001b[0;32m     41\u001b[0m     \u001b[0mhtml\u001b[0m \u001b[1;33m=\u001b[0m \u001b[0m_html\u001b[0m\u001b[1;33m[\u001b[0m\u001b[1;34m'parsed'\u001b[0m\u001b[1;33m]\u001b[0m\u001b[1;33m\u001b[0m\u001b[1;33m\u001b[0m\u001b[0m\n",
      "\u001b[1;32m~\\anaconda3\\envs\\nlp\\lib\\site-packages\\spacy\\displacy\\__init__.py\u001b[0m in \u001b[0;36mparse_deps\u001b[1;34m(orig_doc, options)\u001b[0m\n\u001b[0;32m     87\u001b[0m     \u001b[0mRETURNS\u001b[0m \u001b[1;33m(\u001b[0m\u001b[0mdict\u001b[0m\u001b[1;33m)\u001b[0m\u001b[1;33m:\u001b[0m \u001b[0mGenerated\u001b[0m \u001b[0mdependency\u001b[0m \u001b[0mparse\u001b[0m \u001b[0mkeyed\u001b[0m \u001b[0mby\u001b[0m \u001b[0mwords\u001b[0m \u001b[1;32mand\u001b[0m \u001b[0marcs\u001b[0m\u001b[1;33m.\u001b[0m\u001b[1;33m\u001b[0m\u001b[1;33m\u001b[0m\u001b[0m\n\u001b[0;32m     88\u001b[0m     \"\"\"\n\u001b[1;32m---> 89\u001b[1;33m     \u001b[0mdoc\u001b[0m \u001b[1;33m=\u001b[0m \u001b[0mDoc\u001b[0m\u001b[1;33m(\u001b[0m\u001b[0morig_doc\u001b[0m\u001b[1;33m.\u001b[0m\u001b[0mvocab\u001b[0m\u001b[1;33m)\u001b[0m\u001b[1;33m.\u001b[0m\u001b[0mfrom_bytes\u001b[0m\u001b[1;33m(\u001b[0m\u001b[0morig_doc\u001b[0m\u001b[1;33m.\u001b[0m\u001b[0mto_bytes\u001b[0m\u001b[1;33m(\u001b[0m\u001b[1;33m)\u001b[0m\u001b[1;33m)\u001b[0m\u001b[1;33m\u001b[0m\u001b[1;33m\u001b[0m\u001b[0m\n\u001b[0m\u001b[0;32m     90\u001b[0m     \u001b[1;32mif\u001b[0m \u001b[1;32mnot\u001b[0m \u001b[0mdoc\u001b[0m\u001b[1;33m.\u001b[0m\u001b[0mis_parsed\u001b[0m\u001b[1;33m:\u001b[0m\u001b[1;33m\u001b[0m\u001b[1;33m\u001b[0m\u001b[0m\n\u001b[0;32m     91\u001b[0m         \u001b[0muser_warning\u001b[0m\u001b[1;33m(\u001b[0m\u001b[0mWarnings\u001b[0m\u001b[1;33m.\u001b[0m\u001b[0mW005\u001b[0m\u001b[1;33m)\u001b[0m\u001b[1;33m\u001b[0m\u001b[1;33m\u001b[0m\u001b[0m\n",
      "\u001b[1;32mdoc.pyx\u001b[0m in \u001b[0;36mspacy.tokens.doc.Doc.to_bytes\u001b[1;34m()\u001b[0m\n",
      "\u001b[1;32m~\\anaconda3\\envs\\nlp\\lib\\site-packages\\spacy\\util.py\u001b[0m in \u001b[0;36mto_bytes\u001b[1;34m(getters, exclude)\u001b[0m\n\u001b[0;32m    484\u001b[0m         \u001b[1;32mif\u001b[0m \u001b[0mkey\u001b[0m \u001b[1;32mnot\u001b[0m \u001b[1;32min\u001b[0m \u001b[0mexclude\u001b[0m\u001b[1;33m:\u001b[0m\u001b[1;33m\u001b[0m\u001b[1;33m\u001b[0m\u001b[0m\n\u001b[0;32m    485\u001b[0m             \u001b[0mserialized\u001b[0m\u001b[1;33m[\u001b[0m\u001b[0mkey\u001b[0m\u001b[1;33m]\u001b[0m \u001b[1;33m=\u001b[0m \u001b[0mgetter\u001b[0m\u001b[1;33m(\u001b[0m\u001b[1;33m)\u001b[0m\u001b[1;33m\u001b[0m\u001b[1;33m\u001b[0m\u001b[0m\n\u001b[1;32m--> 486\u001b[1;33m     \u001b[1;32mreturn\u001b[0m \u001b[0mmsgpack\u001b[0m\u001b[1;33m.\u001b[0m\u001b[0mdumps\u001b[0m\u001b[1;33m(\u001b[0m\u001b[0mserialized\u001b[0m\u001b[1;33m,\u001b[0m \u001b[0muse_bin_type\u001b[0m\u001b[1;33m=\u001b[0m\u001b[1;32mTrue\u001b[0m\u001b[1;33m,\u001b[0m \u001b[0mencoding\u001b[0m\u001b[1;33m=\u001b[0m\u001b[1;34m'utf8'\u001b[0m\u001b[1;33m)\u001b[0m\u001b[1;33m\u001b[0m\u001b[1;33m\u001b[0m\u001b[0m\n\u001b[0m\u001b[0;32m    487\u001b[0m \u001b[1;33m\u001b[0m\u001b[0m\n\u001b[0;32m    488\u001b[0m \u001b[1;33m\u001b[0m\u001b[0m\n",
      "\u001b[1;32m~\\anaconda3\\envs\\nlp\\lib\\site-packages\\msgpack_numpy.py\u001b[0m in \u001b[0;36mpackb\u001b[1;34m(o, **kwargs)\u001b[0m\n\u001b[0;32m    253\u001b[0m     \"\"\"\n\u001b[0;32m    254\u001b[0m \u001b[1;33m\u001b[0m\u001b[0m\n\u001b[1;32m--> 255\u001b[1;33m     \u001b[1;32mreturn\u001b[0m \u001b[0mPacker\u001b[0m\u001b[1;33m(\u001b[0m\u001b[1;33m**\u001b[0m\u001b[0mkwargs\u001b[0m\u001b[1;33m)\u001b[0m\u001b[1;33m.\u001b[0m\u001b[0mpack\u001b[0m\u001b[1;33m(\u001b[0m\u001b[0mo\u001b[0m\u001b[1;33m)\u001b[0m\u001b[1;33m\u001b[0m\u001b[1;33m\u001b[0m\u001b[0m\n\u001b[0m\u001b[0;32m    256\u001b[0m \u001b[1;33m\u001b[0m\u001b[0m\n\u001b[0;32m    257\u001b[0m \u001b[1;32mdef\u001b[0m \u001b[0munpack\u001b[0m\u001b[1;33m(\u001b[0m\u001b[0mstream\u001b[0m\u001b[1;33m,\u001b[0m \u001b[1;33m**\u001b[0m\u001b[0mkwargs\u001b[0m\u001b[1;33m)\u001b[0m\u001b[1;33m:\u001b[0m\u001b[1;33m\u001b[0m\u001b[1;33m\u001b[0m\u001b[0m\n",
      "\u001b[1;31mTypeError\u001b[0m: __init__() got an unexpected keyword argument 'encoding'"
     ]
    }
   ],
   "source": [
    "text = \"\"\"In ancient Rome, some neighbors live in three adjacent houses. In the center is the house of Senex, who lives there with wife Domina, son Hero, and several slaves, including head slave Hysterium and the musical's main character Pseudolus.\"\"\"\n",
    "\n",
    "# Preprocess the text\n",
    "doc = nlp(text)\n",
    "# Create a list of sentence\n",
    "sentence_spans = list(doc.sents)\n",
    "# Display SpaCy vizualizer for each sentence\n",
    "displacy.render(sentence_spans, style=\"dep\")"
   ]
  },
  {
   "cell_type": "code",
   "execution_count": null,
   "id": "4daa4953",
   "metadata": {},
   "outputs": [],
   "source": []
  }
 ],
 "metadata": {
  "kernelspec": {
   "display_name": "Python 3",
   "language": "python",
   "name": "python3"
  },
  "language_info": {
   "codemirror_mode": {
    "name": "ipython",
    "version": 3
   },
   "file_extension": ".py",
   "mimetype": "text/x-python",
   "name": "python",
   "nbconvert_exporter": "python",
   "pygments_lexer": "ipython3",
   "version": "3.6.13"
  }
 },
 "nbformat": 4,
 "nbformat_minor": 5
}
