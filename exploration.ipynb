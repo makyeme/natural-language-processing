{
 "cells": [
  {
   "cell_type": "markdown",
   "id": "b0066142",
   "metadata": {},
   "source": [
    "# Using huggingface's transformers\n",
    "(containg pretrained models fot auto text sumerization)"
   ]
  },
  {
   "cell_type": "markdown",
   "id": "cd74109b",
   "metadata": {},
   "source": [
    "## Import libraries"
   ]
  },
  {
   "cell_type": "code",
   "execution_count": 1,
   "id": "cd3fa71c",
   "metadata": {},
   "outputs": [],
   "source": [
    "from transformers import pipeline"
   ]
  },
  {
   "cell_type": "markdown",
   "id": "6eefbb10",
   "metadata": {},
   "source": [
    "## using pretrained models/pipeline for auto-text summerization"
   ]
  },
  {
   "cell_type": "code",
   "execution_count": 3,
   "id": "18de3c26",
   "metadata": {
    "scrolled": true
   },
   "outputs": [
    {
     "data": {
      "application/vnd.jupyter.widget-view+json": {
       "model_id": "7fdb9883c403480eafeb4902f0a23418",
       "version_major": 2,
       "version_minor": 0
      },
      "text/plain": [
       "Downloading:   0%|          | 0.00/1.65k [00:00<?, ?B/s]"
      ]
     },
     "metadata": {},
     "output_type": "display_data"
    },
    {
     "data": {
      "application/vnd.jupyter.widget-view+json": {
       "model_id": "1c17299dbe7a4821aa4d5bd412de930c",
       "version_major": 2,
       "version_minor": 0
      },
      "text/plain": [
       "Downloading:   0%|          | 0.00/1.22G [00:00<?, ?B/s]"
      ]
     },
     "metadata": {},
     "output_type": "display_data"
    },
    {
     "data": {
      "application/vnd.jupyter.widget-view+json": {
       "model_id": "cde60616ef054ab0ad58976b365a5a1f",
       "version_major": 2,
       "version_minor": 0
      },
      "text/plain": [
       "Downloading:   0%|          | 0.00/899k [00:00<?, ?B/s]"
      ]
     },
     "metadata": {},
     "output_type": "display_data"
    },
    {
     "data": {
      "application/vnd.jupyter.widget-view+json": {
       "model_id": "1289ee1610e342c5b9db0493f783eaa2",
       "version_major": 2,
       "version_minor": 0
      },
      "text/plain": [
       "Downloading:   0%|          | 0.00/456k [00:00<?, ?B/s]"
      ]
     },
     "metadata": {},
     "output_type": "display_data"
    },
    {
     "data": {
      "application/vnd.jupyter.widget-view+json": {
       "model_id": "414a78ed4f1a4a739251fa335df7bb7f",
       "version_major": 2,
       "version_minor": 0
      },
      "text/plain": [
       "Downloading:   0%|          | 0.00/26.0 [00:00<?, ?B/s]"
      ]
     },
     "metadata": {},
     "output_type": "display_data"
    }
   ],
   "source": [
    "summerizer = pipeline('summarization')"
   ]
  },
  {
   "cell_type": "markdown",
   "id": "094d2533",
   "metadata": {},
   "source": [
    "### Article to auto summarize"
   ]
  },
  {
   "cell_type": "code",
   "execution_count": 8,
   "id": "dce2dd37",
   "metadata": {},
   "outputs": [],
   "source": [
    "article = '''\n",
    "\n",
    "Depending on your point of view, the inner workings of a neural network or deep learning\n",
    "algorithm are riveting. Or, horribly complicated and mind-numbing. The truth is that most\n",
    "people don’t need (and aren’t going to) understand the details. Which isn’t to say education\n",
    "isn’t required. Making the case for time and funding requires executives and business laypersons to broadly understand what machine learning can do.\n",
    "A story that demonstrates how machine learning can be applied to your business will garner\n",
    "more engagement than complicated algorithmic charts and discussions of p-values . Rather\n",
    "than waxing rhapsodic about the technical nitty-gritty share examples of problems machine\n",
    "learning can solve. Include case studies from other industries and like companies. If you must\n",
    "explain the method itself, think analogies not engineering diagrams.\n",
    "\n",
    "'''"
   ]
  },
  {
   "cell_type": "markdown",
   "id": "b81be01b",
   "metadata": {},
   "source": [
    "### Summarizing article with Greedy decorder"
   ]
  },
  {
   "cell_type": "code",
   "execution_count": 10,
   "id": "dfe855d0",
   "metadata": {},
   "outputs": [
    {
     "data": {
      "text/plain": [
       "[{'summary_text': ' The inner workings of a neural network or deep learning algorithm are riveting or mind-numbing . The truth is that most people don’t need to understand the details . Making the case for time and funding requires executives and laypersons to broadly understand what machine learning can do .'}]"
      ]
     },
     "execution_count": 10,
     "metadata": {},
     "output_type": "execute_result"
    }
   ],
   "source": [
    "#Setting do_sample to false, results into application of the Greedy decorder algorithm\n",
    "summary = summerizer(article, max_length=130, min_length=30, do_sample=False)\n",
    "\n",
    "#Calling the varaible summary\n",
    "summary"
   ]
  },
  {
   "cell_type": "markdown",
   "id": "88f5f558",
   "metadata": {},
   "source": [
    "### Extarcting the output summary"
   ]
  },
  {
   "cell_type": "code",
   "execution_count": 11,
   "id": "38525080",
   "metadata": {},
   "outputs": [
    {
     "data": {
      "text/plain": [
       "' The inner workings of a neural network or deep learning algorithm are riveting or mind-numbing . The truth is that most people don’t need to understand the details . Making the case for time and funding requires executives and laypersons to broadly understand what machine learning can do .'"
      ]
     },
     "execution_count": 11,
     "metadata": {},
     "output_type": "execute_result"
    }
   ],
   "source": [
    "# for list use int positions/index[0], for dic, use key['summary_text']\n",
    "summary[0]['summary_text']"
   ]
  },
  {
   "cell_type": "markdown",
   "id": "106af423",
   "metadata": {},
   "source": [
    "### Checking if summary respects lower(30) and upper(130) bounds"
   ]
  },
  {
   "cell_type": "code",
   "execution_count": 17,
   "id": "2cc52d2b",
   "metadata": {},
   "outputs": [
    {
     "data": {
      "text/plain": [
       "50"
      ]
     },
     "execution_count": 17,
     "metadata": {},
     "output_type": "execute_result"
    }
   ],
   "source": [
    "len(summary[0]['summary_text'].split(' '))"
   ]
  },
  {
   "cell_type": "markdown",
   "id": "85c827bd",
   "metadata": {},
   "source": [
    "### Summarizing article with alternative decorder"
   ]
  },
  {
   "cell_type": "code",
   "execution_count": 19,
   "id": "f7097ac1",
   "metadata": {},
   "outputs": [
    {
     "data": {
      "text/plain": [
       "[{'summary_text': ' The inner workings of a neural network or deep learning algorithm are riveting or mind-numbing . Most people don’t need to understand the details, but education is necessary . A story that demonstrates how machine learning can be applied to your business will garner more engagement than complicated algorithmic charts and discussions of p-values . Include case studies from other industries and like companies. If you must explain the method itself, think analogies not engineering diagrams.'}]"
      ]
     },
     "execution_count": 19,
     "metadata": {},
     "output_type": "execute_result"
    }
   ],
   "source": [
    "#Setting do_sample to false, results into application of the alternative decorder algorithm\n",
    "summary_alt = summerizer(article, max_length=130, min_length=30, do_sample=True)\n",
    "\n",
    "#Calling the varaible summary\n",
    "summary_alt"
   ]
  },
  {
   "cell_type": "markdown",
   "id": "ccfc8bc9",
   "metadata": {},
   "source": [
    "### Checking for bounds"
   ]
  },
  {
   "cell_type": "code",
   "execution_count": 20,
   "id": "c72988dd",
   "metadata": {},
   "outputs": [
    {
     "data": {
      "text/plain": [
       "77"
      ]
     },
     "execution_count": 20,
     "metadata": {},
     "output_type": "execute_result"
    }
   ],
   "source": [
    "#Length of words increases relative to greedy alogarithm\n",
    "len(summary_alt[0]['summary_text'].split(' '))"
   ]
  },
  {
   "cell_type": "code",
   "execution_count": null,
   "id": "b2e0f039",
   "metadata": {},
   "outputs": [],
   "source": []
  }
 ],
 "metadata": {
  "kernelspec": {
   "display_name": "Python 3",
   "language": "python",
   "name": "python3"
  },
  "language_info": {
   "codemirror_mode": {
    "name": "ipython",
    "version": 3
   },
   "file_extension": ".py",
   "mimetype": "text/x-python",
   "name": "python",
   "nbconvert_exporter": "python",
   "pygments_lexer": "ipython3",
   "version": "3.6.13"
  }
 },
 "nbformat": 4,
 "nbformat_minor": 5
}
