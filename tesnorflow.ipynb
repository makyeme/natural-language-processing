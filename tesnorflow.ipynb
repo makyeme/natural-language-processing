{
 "cells": [
  {
   "cell_type": "markdown",
   "id": "b0066142",
   "metadata": {},
   "source": [
    "# Using huggingface's transformers\n",
    "(containg pretrained models fot auto text sumerization)"
   ]
  },
  {
   "cell_type": "markdown",
   "id": "cd74109b",
   "metadata": {},
   "source": [
    "## Import libraries"
   ]
  },
  {
   "cell_type": "code",
   "execution_count": 4,
   "id": "88a8785d",
   "metadata": {
    "scrolled": true
   },
   "outputs": [],
   "source": [
    "import tensorflow as tf\n",
    "\n",
    "from transformers import pipeline"
   ]
  },
  {
   "cell_type": "markdown",
   "id": "66f89954",
   "metadata": {},
   "source": [
    "### Testing for GPU avalability "
   ]
  },
  {
   "cell_type": "code",
   "execution_count": 5,
   "id": "def874ba",
   "metadata": {},
   "outputs": [
    {
     "name": "stdout",
     "output_type": "stream",
     "text": [
      "Default GPU Device: /device:GPU:0\n"
     ]
    }
   ],
   "source": [
    "# Check to see if tensor flow is running on GPU\n",
    "\n",
    "if tf.test.gpu_device_name(): \n",
    "\n",
    "    print('Default GPU Device: {}'.format(tf.test.gpu_device_name()))\n",
    "\n",
    "else:\n",
    "\n",
    "   print(\"Please install GPU version of TF\")\n",
    "\n",
    "#running on GPU 0"
   ]
  },
  {
   "cell_type": "code",
   "execution_count": 6,
   "id": "cc8887a8",
   "metadata": {},
   "outputs": [
    {
     "data": {
      "text/plain": [
       "True"
      ]
     },
     "execution_count": 6,
     "metadata": {},
     "output_type": "execute_result"
    }
   ],
   "source": [
    "# True if a GPU device of the requested kind is available.\n",
    "\n",
    "tf.test.is_gpu_available(\n",
    "    cuda_only=False, min_cuda_compute_capability=None\n",
    ")"
   ]
  },
  {
   "cell_type": "code",
   "execution_count": 7,
   "id": "32d6af93",
   "metadata": {},
   "outputs": [
    {
     "name": "stdout",
     "output_type": "stream",
     "text": [
      "Executing op MatMul in device /job:localhost/replica:0/task:0/device:GPU:0\n",
      "tf.Tensor(\n",
      "[[22. 28.]\n",
      " [49. 64.]], shape=(2, 2), dtype=float32)\n"
     ]
    }
   ],
   "source": [
    "#Using logging device placement\n",
    "\n",
    "tf.debugging.set_log_device_placement(True)\n",
    "\n",
    "# Create some tensors\n",
    "a = tf.constant([[1.0, 2.0, 3.0], [4.0, 5.0, 6.0]])\n",
    "b = tf.constant([[1.0, 2.0], [3.0, 4.0], [5.0, 6.0]])\n",
    "c = tf.matmul(a, b)\n",
    "\n",
    "print(c)\n",
    "\n",
    "#The tesnors(MatMul) are assigned to GPU device '0'"
   ]
  },
  {
   "cell_type": "markdown",
   "id": "6eefbb10",
   "metadata": {},
   "source": [
    "## using pretrained models/pipeline for auto-text summerization"
   ]
  },
  {
   "cell_type": "code",
   "execution_count": 9,
   "id": "18de3c26",
   "metadata": {
    "scrolled": true
   },
   "outputs": [
    {
     "ename": "KeyError",
     "evalue": "\"Unknown task summarization, available tasks are ['feature-extraction', 'sentiment-analysis', 'ner', 'question-answering', 'fill-mask']\"",
     "output_type": "error",
     "traceback": [
      "\u001b[1;31m---------------------------------------------------------------------------\u001b[0m",
      "\u001b[1;31mKeyError\u001b[0m                                  Traceback (most recent call last)",
      "\u001b[1;32m<ipython-input-9-3f1200643048>\u001b[0m in \u001b[0;36m<module>\u001b[1;34m\u001b[0m\n\u001b[1;32m----> 1\u001b[1;33m \u001b[0msummerizer\u001b[0m \u001b[1;33m=\u001b[0m \u001b[0mpipeline\u001b[0m\u001b[1;33m(\u001b[0m\u001b[1;34m'summarization'\u001b[0m\u001b[1;33m)\u001b[0m\u001b[1;33m\u001b[0m\u001b[1;33m\u001b[0m\u001b[0m\n\u001b[0m",
      "\u001b[1;32m~\\anaconda3\\envs\\tensor37\\lib\\site-packages\\transformers\\pipelines.py\u001b[0m in \u001b[0;36mpipeline\u001b[1;34m(task, model, config, tokenizer, modelcard, framework, **kwargs)\u001b[0m\n\u001b[0;32m   1024\u001b[0m     \u001b[1;31m# Retrieve the task\u001b[0m\u001b[1;33m\u001b[0m\u001b[1;33m\u001b[0m\u001b[1;33m\u001b[0m\u001b[0m\n\u001b[0;32m   1025\u001b[0m     \u001b[1;32mif\u001b[0m \u001b[0mtask\u001b[0m \u001b[1;32mnot\u001b[0m \u001b[1;32min\u001b[0m \u001b[0mSUPPORTED_TASKS\u001b[0m\u001b[1;33m:\u001b[0m\u001b[1;33m\u001b[0m\u001b[1;33m\u001b[0m\u001b[0m\n\u001b[1;32m-> 1026\u001b[1;33m         \u001b[1;32mraise\u001b[0m \u001b[0mKeyError\u001b[0m\u001b[1;33m(\u001b[0m\u001b[1;34m\"Unknown task {}, available tasks are {}\"\u001b[0m\u001b[1;33m.\u001b[0m\u001b[0mformat\u001b[0m\u001b[1;33m(\u001b[0m\u001b[0mtask\u001b[0m\u001b[1;33m,\u001b[0m \u001b[0mlist\u001b[0m\u001b[1;33m(\u001b[0m\u001b[0mSUPPORTED_TASKS\u001b[0m\u001b[1;33m.\u001b[0m\u001b[0mkeys\u001b[0m\u001b[1;33m(\u001b[0m\u001b[1;33m)\u001b[0m\u001b[1;33m)\u001b[0m\u001b[1;33m)\u001b[0m\u001b[1;33m)\u001b[0m\u001b[1;33m\u001b[0m\u001b[1;33m\u001b[0m\u001b[0m\n\u001b[0m\u001b[0;32m   1027\u001b[0m \u001b[1;33m\u001b[0m\u001b[0m\n\u001b[0;32m   1028\u001b[0m     \u001b[0mframework\u001b[0m \u001b[1;33m=\u001b[0m \u001b[0mframework\u001b[0m \u001b[1;32mor\u001b[0m \u001b[0mget_framework\u001b[0m\u001b[1;33m(\u001b[0m\u001b[0mmodel\u001b[0m\u001b[1;33m)\u001b[0m\u001b[1;33m\u001b[0m\u001b[1;33m\u001b[0m\u001b[0m\n",
      "\u001b[1;31mKeyError\u001b[0m: \"Unknown task summarization, available tasks are ['feature-extraction', 'sentiment-analysis', 'ner', 'question-answering', 'fill-mask']\""
     ]
    }
   ],
   "source": [
    "summerizer = pipeline('summarization')"
   ]
  },
  {
   "cell_type": "markdown",
   "id": "094d2533",
   "metadata": {},
   "source": [
    "### Article to auto summarize"
   ]
  },
  {
   "cell_type": "code",
   "execution_count": 8,
   "id": "dce2dd37",
   "metadata": {},
   "outputs": [],
   "source": [
    "article = '''\n",
    "\n",
    "Depending on your point of view, the inner workings of a neural network or deep learning\n",
    "algorithm are riveting. Or, horribly complicated and mind-numbing. The truth is that most\n",
    "people don’t need (and aren’t going to) understand the details. Which isn’t to say education\n",
    "isn’t required. Making the case for time and funding requires executives and business laypersons to broadly understand what machine learning can do.\n",
    "A story that demonstrates how machine learning can be applied to your business will garner\n",
    "more engagement than complicated algorithmic charts and discussions of p-values . Rather\n",
    "than waxing rhapsodic about the technical nitty-gritty share examples of problems machine\n",
    "learning can solve. Include case studies from other industries and like companies. If you must\n",
    "explain the method itself, think analogies not engineering diagrams.\n",
    "\n",
    "'''"
   ]
  },
  {
   "cell_type": "markdown",
   "id": "b81be01b",
   "metadata": {},
   "source": [
    "### Summarizing article with Greedy decorder"
   ]
  },
  {
   "cell_type": "code",
   "execution_count": 10,
   "id": "dfe855d0",
   "metadata": {},
   "outputs": [
    {
     "data": {
      "text/plain": [
       "[{'summary_text': ' The inner workings of a neural network or deep learning algorithm are riveting or mind-numbing . The truth is that most people don’t need to understand the details . Making the case for time and funding requires executives and laypersons to broadly understand what machine learning can do .'}]"
      ]
     },
     "execution_count": 10,
     "metadata": {},
     "output_type": "execute_result"
    }
   ],
   "source": [
    "#Setting do_sample to false, results into application of the Greedy decorder algorithm\n",
    "summary = summerizer(article, max_length=130, min_length=30, do_sample=False)\n",
    "\n",
    "#Calling the varaible summary\n",
    "summary"
   ]
  },
  {
   "cell_type": "markdown",
   "id": "88f5f558",
   "metadata": {},
   "source": [
    "### Extarcting the output summary"
   ]
  },
  {
   "cell_type": "code",
   "execution_count": 11,
   "id": "38525080",
   "metadata": {},
   "outputs": [
    {
     "data": {
      "text/plain": [
       "' The inner workings of a neural network or deep learning algorithm are riveting or mind-numbing . The truth is that most people don’t need to understand the details . Making the case for time and funding requires executives and laypersons to broadly understand what machine learning can do .'"
      ]
     },
     "execution_count": 11,
     "metadata": {},
     "output_type": "execute_result"
    }
   ],
   "source": [
    "# for list use int positions/index[0], for dic, use key['summary_text']\n",
    "summary[0]['summary_text']"
   ]
  },
  {
   "cell_type": "markdown",
   "id": "106af423",
   "metadata": {},
   "source": [
    "### Checking if summary respects lower(30) and upper(130) bounds"
   ]
  },
  {
   "cell_type": "code",
   "execution_count": 17,
   "id": "2cc52d2b",
   "metadata": {},
   "outputs": [
    {
     "data": {
      "text/plain": [
       "50"
      ]
     },
     "execution_count": 17,
     "metadata": {},
     "output_type": "execute_result"
    }
   ],
   "source": [
    "len(summary[0]['summary_text'].split(' '))"
   ]
  },
  {
   "cell_type": "markdown",
   "id": "85c827bd",
   "metadata": {},
   "source": [
    "### Summarizing article with alternative decorder"
   ]
  },
  {
   "cell_type": "code",
   "execution_count": 19,
   "id": "f7097ac1",
   "metadata": {},
   "outputs": [
    {
     "data": {
      "text/plain": [
       "[{'summary_text': ' The inner workings of a neural network or deep learning algorithm are riveting or mind-numbing . Most people don’t need to understand the details, but education is necessary . A story that demonstrates how machine learning can be applied to your business will garner more engagement than complicated algorithmic charts and discussions of p-values . Include case studies from other industries and like companies. If you must explain the method itself, think analogies not engineering diagrams.'}]"
      ]
     },
     "execution_count": 19,
     "metadata": {},
     "output_type": "execute_result"
    }
   ],
   "source": [
    "#Setting do_sample to false, results into application of the alternative decorder algorithm\n",
    "summary_alt = summerizer(article, max_length=130, min_length=30, do_sample=True)\n",
    "\n",
    "#Calling the varaible summary\n",
    "summary_alt"
   ]
  },
  {
   "cell_type": "markdown",
   "id": "ccfc8bc9",
   "metadata": {},
   "source": [
    "### Checking for bounds"
   ]
  },
  {
   "cell_type": "code",
   "execution_count": 20,
   "id": "c72988dd",
   "metadata": {},
   "outputs": [
    {
     "data": {
      "text/plain": [
       "77"
      ]
     },
     "execution_count": 20,
     "metadata": {},
     "output_type": "execute_result"
    }
   ],
   "source": [
    "#Length of words increases relative to greedy alogarithm\n",
    "len(summary_alt[0]['summary_text'].split(' '))"
   ]
  },
  {
   "cell_type": "code",
   "execution_count": null,
   "id": "b2e0f039",
   "metadata": {},
   "outputs": [],
   "source": []
  }
 ],
 "metadata": {
  "kernelspec": {
   "display_name": "Python 3",
   "language": "python",
   "name": "python3"
  },
  "language_info": {
   "codemirror_mode": {
    "name": "ipython",
    "version": 3
   },
   "file_extension": ".py",
   "mimetype": "text/x-python",
   "name": "python",
   "nbconvert_exporter": "python",
   "pygments_lexer": "ipython3",
   "version": "3.6.8"
  }
 },
 "nbformat": 4,
 "nbformat_minor": 5
}
