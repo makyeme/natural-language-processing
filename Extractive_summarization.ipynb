{
 "cells": [
  {
   "cell_type": "markdown",
   "id": "b0066142",
   "metadata": {},
   "source": [
    "# Using huggingface's extractive summarization transformers with BERT\n"
   ]
  },
  {
   "cell_type": "markdown",
   "id": "2659c122",
   "metadata": {},
   "source": [
    "### works with small to medium texts"
   ]
  },
  {
   "cell_type": "markdown",
   "id": "cd74109b",
   "metadata": {},
   "source": [
    "## Import libraries"
   ]
  },
  {
   "cell_type": "code",
   "execution_count": 2,
   "id": "88a8785d",
   "metadata": {
    "scrolled": true
   },
   "outputs": [],
   "source": [
    "from transformers import pipeline"
   ]
  },
  {
   "cell_type": "markdown",
   "id": "04833144",
   "metadata": {},
   "source": [
    "## Function to generate extractive summary"
   ]
  },
  {
   "cell_type": "code",
   "execution_count": 3,
   "id": "bb57ca6c",
   "metadata": {},
   "outputs": [],
   "source": [
    "def short_textBert(document):\n",
    "    summerizer = pipeline('summarization')\n",
    "    my_summary = summerizer(document, max_length=500, min_length=200, do_sample=False)\n",
    "    print(my_summary[0]['summary_text'])"
   ]
  },
  {
   "cell_type": "markdown",
   "id": "00e0b09e",
   "metadata": {},
   "source": [
    "### Ariticle to summarize"
   ]
  },
  {
   "cell_type": "code",
   "execution_count": 4,
   "id": "051498a2",
   "metadata": {},
   "outputs": [],
   "source": [
    "article = '''\n",
    "\n",
    "Chapter I\n",
    "\n",
    "\n",
    "IN WHICH PHILEAS FOGG AND PASSEPARTOUT ACCEPT EACH OTHER, \n",
    "THE ONE AS\n",
    "MASTER, THE OTHER AS MAN\n",
    "Mr. Phileas Fogg lived, in 1872, at No. 7, Saville Row, Burlington\n",
    "Gardens, the house in which Sheridan died in 1814.  He was one of the\n",
    "most noticeable members of the Reform Club, though he seemed always to\n",
    "avoid attracting attention; an enigmatical personage, about whom little\n",
    "was known, except that he was a polished man of the world.  People said\n",
    "that he resembled Byron—at least that his head was Byronic; but he was\n",
    "a bearded, tranquil Byron, who might live on a thousand years without\n",
    "growing old.\n",
    "Certainly an Englishman, it was more doubtful whether Phileas Fogg was\n",
    "a Londoner.  He was never seen on 'Change, nor at the Bank, nor in the\n",
    "counting-rooms of the \"City\"; no ships ever came into London docks of\n",
    "which he was the owner; he had no public employment; he had never been\n",
    "entered at any of the Inns of Court, either at the Temple, or Lincoln's\n",
    "Inn, or Gray's Inn; nor had his voice ever resounded in the Court of\n",
    "Chancery, or in the Exchequer, or the Queen's Bench, or the\n",
    "Ecclesiastical Courts.  He certainly was not a manufacturer; nor was he\n",
    "a merchant or a gentleman farmer.  His name was strange to the\n",
    "scientific and learned societies, and he never was known to take part\n",
    "in the sage deliberations of the Royal Institution or the London\n",
    "Institution, the Artisan's Association, or the Institution of Arts and\n",
    "Sciences.  He belonged, in fact, to none of the numerous societies\n",
    "which swarm in the English capital, from the Harmonic to that of the\n",
    "Entomologists, founded mainly for the purpose of abolishing pernicious\n",
    "insects.\n",
    "Phileas Fogg was a member of the Reform, and that was all.\n",
    "The way in which he got admission to this exclusive club was simple\n",
    "enough.\n",
    "He was recommended by the Barings, with whom he had an open credit.\n",
    "His cheques were regularly paid at sight from his account current,\n",
    "which was always flush.\n",
    "Was Phileas Fogg rich?  Undoubtedly.  But those who knew him best could\n",
    "not imagine how he had made his fortune, and Mr. Fogg was the last\n",
    "person to whom to apply for the information.  He was not lavish, nor,\n",
    "on the contrary, avaricious; for, whenever he knew that money was\n",
    "needed for a noble, useful, or benevolent purpose, he supplied it\n",
    "quietly and sometimes anonymously.  He was, in short, the least\n",
    "communicative of men.  He talked very little, and seemed all the more\n",
    "mysterious for his taciturn manner.  His daily habits were quite open\n",
    "to observation; but whatever he did was so exactly the same thing that\n",
    "he had always done before, that the wits of the curious were fairly\n",
    "puzzled.\n",
    "\n",
    "Had he travelled?  It was likely, for no one seemed to know the world\n",
    "more familiarly; there was no spot so secluded that he did not appear\n",
    "to have an intimate acquaintance with it.  He often corrected, with a\n",
    "few clear words, the thousand conjectures advanced by members of the\n",
    "club as to lost and unheard-of travellers, pointing out the true\n",
    "probabilities, and seeming as if gifted with a sort of second sight, so\n",
    "often did events justify his predictions.  He must have travelled\n",
    "everywhere, at least in the spirit.\n",
    "\n",
    "It was at least certain that Phileas Fogg had not absented himself from\n",
    "London for many years.  Those who were honoured by a better\n",
    "acquaintance with him than the rest, declared that nobody could pretend\n",
    "to have ever seen him anywhere else.  His sole pastimes were reading\n",
    "the papers and playing whist.  He often won at this game, which, as a\n",
    "silent one, harmonised with his nature; but his winnings never went\n",
    "into his purse, being reserved as a fund for his charities.  Mr. Fogg\n",
    "played, not to win, but for the sake of playing.  The game was in his\n",
    "eyes a contest, a struggle with a difficulty, yet a motionless,\n",
    "unwearying struggle, congenial to his tastes.\n",
    "\n",
    "\n",
    "'''\n"
   ]
  },
  {
   "cell_type": "markdown",
   "id": "fbba2aa7",
   "metadata": {},
   "source": [
    "## Generating summary of article"
   ]
  },
  {
   "cell_type": "code",
   "execution_count": 5,
   "id": "cbf13dba",
   "metadata": {},
   "outputs": [
    {
     "name": "stdout",
     "output_type": "stream",
     "text": [
      " Phileas Fogg lived, in 1872, at No. 7, Saville Row, Burlington, Burlington-Gardens, the house in which Sheridan died in 1814 . He was one of the most noticeable members of the Reform Club, though he seemed always to avoid attracting attention . People said that he resembled Byron, but he was a bearded, tranquil Byron, who might live on a thousand years without growing old . His sole pastimes were reading the papers and playing whistles and playing a game, which he often won at this one, harmonised with his own nature . His name was strange to the scientific and learned societies, and he never was known to take part in deliberations of the Royal Institution or the Artisan's Association, or the Institution of Arts and Sciences . His cheques were regularly paid at sight from his account current, which was always flush. He was not lavish, nor avaricious; for, whenever he knew that money was needed for a noble, useful, or\n"
     ]
    }
   ],
   "source": [
    "short_textBert(article)"
   ]
  }
 ],
 "metadata": {
  "kernelspec": {
   "display_name": "Python 3",
   "language": "python",
   "name": "python3"
  },
  "language_info": {
   "codemirror_mode": {
    "name": "ipython",
    "version": 3
   },
   "file_extension": ".py",
   "mimetype": "text/x-python",
   "name": "python",
   "nbconvert_exporter": "python",
   "pygments_lexer": "ipython3",
   "version": "3.6.8"
  }
 },
 "nbformat": 4,
 "nbformat_minor": 5
}
